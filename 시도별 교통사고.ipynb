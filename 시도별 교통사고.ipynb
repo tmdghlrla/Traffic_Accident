{
 "cells": [
  {
   "cell_type": "code",
   "execution_count": 1,
   "id": "5cced12c",
   "metadata": {},
   "outputs": [],
   "source": [
    "import pandas as pd\n",
    "import numpy as np\n",
    "import joblib"
   ]
  },
  {
   "cell_type": "code",
   "execution_count": 2,
   "id": "dad46314",
   "metadata": {},
   "outputs": [],
   "source": [
    "df=pd.read_csv('data/Traffic_Accident.csv', index_col=0, encoding='cp949')"
   ]
  },
  {
   "cell_type": "code",
   "execution_count": 3,
   "id": "6093960b",
   "metadata": {},
   "outputs": [
    {
     "data": {
      "text/html": [
       "<div>\n",
       "<style scoped>\n",
       "    .dataframe tbody tr th:only-of-type {\n",
       "        vertical-align: middle;\n",
       "    }\n",
       "\n",
       "    .dataframe tbody tr th {\n",
       "        vertical-align: top;\n",
       "    }\n",
       "\n",
       "    .dataframe thead th {\n",
       "        text-align: right;\n",
       "    }\n",
       "</style>\n",
       "<table border=\"1\" class=\"dataframe\">\n",
       "  <thead>\n",
       "    <tr style=\"text-align: right;\">\n",
       "      <th></th>\n",
       "      <th>시도별</th>\n",
       "      <th>월별</th>\n",
       "      <th>사고건수(건)</th>\n",
       "      <th>사망자수(명)</th>\n",
       "      <th>부상자수(명)</th>\n",
       "    </tr>\n",
       "  </thead>\n",
       "  <tbody>\n",
       "    <tr>\n",
       "      <th>1</th>\n",
       "      <td>서울</td>\n",
       "      <td>1월</td>\n",
       "      <td>2874</td>\n",
       "      <td>18</td>\n",
       "      <td>3868</td>\n",
       "    </tr>\n",
       "    <tr>\n",
       "      <th>2</th>\n",
       "      <td>서울</td>\n",
       "      <td>2월</td>\n",
       "      <td>2176</td>\n",
       "      <td>16</td>\n",
       "      <td>2919</td>\n",
       "    </tr>\n",
       "    <tr>\n",
       "      <th>3</th>\n",
       "      <td>서울</td>\n",
       "      <td>3월</td>\n",
       "      <td>2187</td>\n",
       "      <td>12</td>\n",
       "      <td>2852</td>\n",
       "    </tr>\n",
       "    <tr>\n",
       "      <th>4</th>\n",
       "      <td>서울</td>\n",
       "      <td>4월</td>\n",
       "      <td>2847</td>\n",
       "      <td>23</td>\n",
       "      <td>3905</td>\n",
       "    </tr>\n",
       "    <tr>\n",
       "      <th>5</th>\n",
       "      <td>서울</td>\n",
       "      <td>5월</td>\n",
       "      <td>3030</td>\n",
       "      <td>19</td>\n",
       "      <td>4065</td>\n",
       "    </tr>\n",
       "    <tr>\n",
       "      <th>...</th>\n",
       "      <td>...</td>\n",
       "      <td>...</td>\n",
       "      <td>...</td>\n",
       "      <td>...</td>\n",
       "      <td>...</td>\n",
       "    </tr>\n",
       "    <tr>\n",
       "      <th>216</th>\n",
       "      <td>제주</td>\n",
       "      <td>8월</td>\n",
       "      <td>373</td>\n",
       "      <td>4</td>\n",
       "      <td>570</td>\n",
       "    </tr>\n",
       "    <tr>\n",
       "      <th>217</th>\n",
       "      <td>제주</td>\n",
       "      <td>9월</td>\n",
       "      <td>326</td>\n",
       "      <td>7</td>\n",
       "      <td>465</td>\n",
       "    </tr>\n",
       "    <tr>\n",
       "      <th>218</th>\n",
       "      <td>제주</td>\n",
       "      <td>10월</td>\n",
       "      <td>366</td>\n",
       "      <td>4</td>\n",
       "      <td>554</td>\n",
       "    </tr>\n",
       "    <tr>\n",
       "      <th>219</th>\n",
       "      <td>제주</td>\n",
       "      <td>11월</td>\n",
       "      <td>325</td>\n",
       "      <td>4</td>\n",
       "      <td>436</td>\n",
       "    </tr>\n",
       "    <tr>\n",
       "      <th>220</th>\n",
       "      <td>제주</td>\n",
       "      <td>12월</td>\n",
       "      <td>296</td>\n",
       "      <td>3</td>\n",
       "      <td>428</td>\n",
       "    </tr>\n",
       "  </tbody>\n",
       "</table>\n",
       "<p>204 rows × 5 columns</p>\n",
       "</div>"
      ],
      "text/plain": [
       "    시도별   월별  사고건수(건)  사망자수(명)  부상자수(명)\n",
       "1    서울   1월     2874       18     3868\n",
       "2    서울   2월     2176       16     2919\n",
       "3    서울   3월     2187       12     2852\n",
       "4    서울   4월     2847       23     3905\n",
       "5    서울   5월     3030       19     4065\n",
       "..   ..  ...      ...      ...      ...\n",
       "216  제주   8월      373        4      570\n",
       "217  제주   9월      326        7      465\n",
       "218  제주  10월      366        4      554\n",
       "219  제주  11월      325        4      436\n",
       "220  제주  12월      296        3      428\n",
       "\n",
       "[204 rows x 5 columns]"
      ]
     },
     "execution_count": 3,
     "metadata": {},
     "output_type": "execute_result"
    }
   ],
   "source": [
    "df"
   ]
  },
  {
   "cell_type": "code",
   "execution_count": 84,
   "id": "f22be077",
   "metadata": {},
   "outputs": [
    {
     "data": {
      "text/plain": [
       "시도별        0\n",
       "월별         0\n",
       "사고건수(건)    0\n",
       "사망자수(명)    0\n",
       "부상자수(명)    0\n",
       "dtype: int64"
      ]
     },
     "execution_count": 84,
     "metadata": {},
     "output_type": "execute_result"
    }
   ],
   "source": [
    "df.isna().sum()"
   ]
  },
  {
   "cell_type": "code",
   "execution_count": 85,
   "id": "89b8e66d",
   "metadata": {},
   "outputs": [
    {
     "data": {
      "text/html": [
       "<div>\n",
       "<style scoped>\n",
       "    .dataframe tbody tr th:only-of-type {\n",
       "        vertical-align: middle;\n",
       "    }\n",
       "\n",
       "    .dataframe tbody tr th {\n",
       "        vertical-align: top;\n",
       "    }\n",
       "\n",
       "    .dataframe thead th {\n",
       "        text-align: right;\n",
       "    }\n",
       "</style>\n",
       "<table border=\"1\" class=\"dataframe\">\n",
       "  <thead>\n",
       "    <tr style=\"text-align: right;\">\n",
       "      <th></th>\n",
       "      <th>사고건수(건)</th>\n",
       "      <th>사망자수(명)</th>\n",
       "      <th>부상자수(명)</th>\n",
       "    </tr>\n",
       "  </thead>\n",
       "  <tbody>\n",
       "    <tr>\n",
       "      <th>count</th>\n",
       "      <td>204.000000</td>\n",
       "      <td>204.000000</td>\n",
       "      <td>204.000000</td>\n",
       "    </tr>\n",
       "    <tr>\n",
       "      <th>mean</th>\n",
       "      <td>964.882353</td>\n",
       "      <td>13.406863</td>\n",
       "      <td>1381.387255</td>\n",
       "    </tr>\n",
       "    <tr>\n",
       "      <th>std</th>\n",
       "      <td>1043.442987</td>\n",
       "      <td>11.622814</td>\n",
       "      <td>1493.822304</td>\n",
       "    </tr>\n",
       "    <tr>\n",
       "      <th>min</th>\n",
       "      <td>44.000000</td>\n",
       "      <td>0.000000</td>\n",
       "      <td>56.000000</td>\n",
       "    </tr>\n",
       "    <tr>\n",
       "      <th>25%</th>\n",
       "      <td>501.000000</td>\n",
       "      <td>4.000000</td>\n",
       "      <td>709.500000</td>\n",
       "    </tr>\n",
       "    <tr>\n",
       "      <th>50%</th>\n",
       "      <td>660.500000</td>\n",
       "      <td>11.000000</td>\n",
       "      <td>972.000000</td>\n",
       "    </tr>\n",
       "    <tr>\n",
       "      <th>75%</th>\n",
       "      <td>898.750000</td>\n",
       "      <td>18.000000</td>\n",
       "      <td>1275.500000</td>\n",
       "    </tr>\n",
       "    <tr>\n",
       "      <th>max</th>\n",
       "      <td>4982.000000</td>\n",
       "      <td>60.000000</td>\n",
       "      <td>7410.000000</td>\n",
       "    </tr>\n",
       "  </tbody>\n",
       "</table>\n",
       "</div>"
      ],
      "text/plain": [
       "           사고건수(건)     사망자수(명)      부상자수(명)\n",
       "count   204.000000  204.000000   204.000000\n",
       "mean    964.882353   13.406863  1381.387255\n",
       "std    1043.442987   11.622814  1493.822304\n",
       "min      44.000000    0.000000    56.000000\n",
       "25%     501.000000    4.000000   709.500000\n",
       "50%     660.500000   11.000000   972.000000\n",
       "75%     898.750000   18.000000  1275.500000\n",
       "max    4982.000000   60.000000  7410.000000"
      ]
     },
     "execution_count": 85,
     "metadata": {},
     "output_type": "execute_result"
    }
   ],
   "source": [
    "df.describe()"
   ]
  },
  {
   "cell_type": "code",
   "execution_count": 4,
   "id": "25c5c4c8",
   "metadata": {},
   "outputs": [
    {
     "data": {
      "text/plain": [
       "array(['서울', '부산', '대구', '인천', '광주', '대전', '울산', '세종', '경기', '강원', '충북',\n",
       "       '충남', '전북', '전남', '경북', '경남', '제주'], dtype=object)"
      ]
     },
     "execution_count": 4,
     "metadata": {},
     "output_type": "execute_result"
    }
   ],
   "source": [
    "df['시도별'].unique()"
   ]
  },
  {
   "cell_type": "code",
   "execution_count": 5,
   "id": "46c930fb",
   "metadata": {},
   "outputs": [],
   "source": [
    "df_city=df.drop(labels='사망자수(명)', axis=1)"
   ]
  },
  {
   "cell_type": "code",
   "execution_count": 20,
   "id": "d11e5b92",
   "metadata": {},
   "outputs": [
    {
     "data": {
      "text/plain": [
       "116    12월\n",
       "Name: 월별, dtype: object"
      ]
     },
     "execution_count": 20,
     "metadata": {},
     "output_type": "execute_result"
    }
   ],
   "source": [
    "df.loc[df_city['사고건수(건)'] == df_city['사고건수(건)'].max(),'월별']"
   ]
  },
  {
   "cell_type": "code",
   "execution_count": 21,
   "id": "0ad45a8a",
   "metadata": {},
   "outputs": [],
   "source": [
    "val_col = ['사고건수(건)','사망자수(명)','부상자수(명)']"
   ]
  },
  {
   "cell_type": "code",
   "execution_count": 22,
   "id": "8cd1f2b1",
   "metadata": {},
   "outputs": [],
   "source": [
    "selected_city = '서울'"
   ]
  },
  {
   "cell_type": "code",
   "execution_count": 23,
   "id": "e22f319f",
   "metadata": {},
   "outputs": [],
   "source": [
    "df_city = df.loc[df['시도별']==selected_city,].reset_index(drop=True)"
   ]
  },
  {
   "cell_type": "code",
   "execution_count": 57,
   "id": "c39b7c19",
   "metadata": {},
   "outputs": [
    {
     "data": {
      "text/plain": [
       "'10월'"
      ]
     },
     "execution_count": 57,
     "metadata": {},
     "output_type": "execute_result"
    }
   ],
   "source": [
    "list(df_city.loc[df_city[val_col[0]]==df_city[val_col[0]].max(),'월별'])[0]"
   ]
  },
  {
   "cell_type": "code",
   "execution_count": 70,
   "id": "1dc80c86",
   "metadata": {},
   "outputs": [
    {
     "data": {
      "text/plain": [
       "'12월'"
      ]
     },
     "execution_count": 70,
     "metadata": {},
     "output_type": "execute_result"
    }
   ],
   "source": [
    "list(df_city.loc[df_city[val_col[1]] == df_city[val_col[1]].max(),'월별'])[0]"
   ]
  },
  {
   "cell_type": "code",
   "execution_count": null,
   "id": "254f6527",
   "metadata": {},
   "outputs": [],
   "source": []
  },
  {
   "cell_type": "code",
   "execution_count": 71,
   "id": "071f92d6",
   "metadata": {},
   "outputs": [],
   "source": [
    "selected_month ='1월'"
   ]
  },
  {
   "cell_type": "code",
   "execution_count": 72,
   "id": "af206f37",
   "metadata": {},
   "outputs": [],
   "source": [
    "df_month = df.loc[df['월별']==selected_month,].reset_index(drop=True)"
   ]
  },
  {
   "cell_type": "code",
   "execution_count": 77,
   "id": "477f28e0",
   "metadata": {},
   "outputs": [
    {
     "data": {
      "text/html": [
       "<div>\n",
       "<style scoped>\n",
       "    .dataframe tbody tr th:only-of-type {\n",
       "        vertical-align: middle;\n",
       "    }\n",
       "\n",
       "    .dataframe tbody tr th {\n",
       "        vertical-align: top;\n",
       "    }\n",
       "\n",
       "    .dataframe thead th {\n",
       "        text-align: right;\n",
       "    }\n",
       "</style>\n",
       "<table border=\"1\" class=\"dataframe\">\n",
       "  <thead>\n",
       "    <tr style=\"text-align: right;\">\n",
       "      <th></th>\n",
       "      <th>시도별</th>\n",
       "      <th>월별</th>\n",
       "      <th>사고건수(건)</th>\n",
       "      <th>사망자수(명)</th>\n",
       "      <th>부상자수(명)</th>\n",
       "    </tr>\n",
       "  </thead>\n",
       "  <tbody>\n",
       "    <tr>\n",
       "      <th>8</th>\n",
       "      <td>경기</td>\n",
       "      <td>1월</td>\n",
       "      <td>4539</td>\n",
       "      <td>38</td>\n",
       "      <td>6641</td>\n",
       "    </tr>\n",
       "  </tbody>\n",
       "</table>\n",
       "</div>"
      ],
      "text/plain": [
       "  시도별  월별  사고건수(건)  사망자수(명)  부상자수(명)\n",
       "8  경기  1월     4539       38     6641"
      ]
     },
     "execution_count": 77,
     "metadata": {},
     "output_type": "execute_result"
    }
   ],
   "source": [
    "df_month.loc[df_month[val_col[0]]==df_month[val_col[0]].max(),]"
   ]
  },
  {
   "cell_type": "code",
   "execution_count": 80,
   "id": "c43615ce",
   "metadata": {},
   "outputs": [
    {
     "data": {
      "text/plain": [
       "'경기'"
      ]
     },
     "execution_count": 80,
     "metadata": {},
     "output_type": "execute_result"
    }
   ],
   "source": [
    "list(df_month.loc[df_month[val_col[0]]==df_month[val_col[0]].max(),'시도별'])[0]"
   ]
  },
  {
   "cell_type": "code",
   "execution_count": null,
   "id": "76fe833a",
   "metadata": {},
   "outputs": [],
   "source": []
  },
  {
   "cell_type": "code",
   "execution_count": null,
   "id": "e510763e",
   "metadata": {},
   "outputs": [],
   "source": []
  },
  {
   "cell_type": "code",
   "execution_count": null,
   "id": "2d022fa8",
   "metadata": {},
   "outputs": [],
   "source": []
  },
  {
   "cell_type": "code",
   "execution_count": null,
   "id": "3921173f",
   "metadata": {},
   "outputs": [],
   "source": []
  },
  {
   "cell_type": "code",
   "execution_count": null,
   "id": "ab1413e4",
   "metadata": {},
   "outputs": [],
   "source": []
  },
  {
   "cell_type": "code",
   "execution_count": null,
   "id": "52327a6c",
   "metadata": {},
   "outputs": [],
   "source": []
  },
  {
   "cell_type": "code",
   "execution_count": null,
   "id": "4aaf3afc",
   "metadata": {},
   "outputs": [],
   "source": []
  },
  {
   "cell_type": "code",
   "execution_count": null,
   "id": "daba2b21",
   "metadata": {},
   "outputs": [],
   "source": []
  }
 ],
 "metadata": {
  "kernelspec": {
   "display_name": "Python 3 (ipykernel)",
   "language": "python",
   "name": "python3"
  },
  "language_info": {
   "codemirror_mode": {
    "name": "ipython",
    "version": 3
   },
   "file_extension": ".py",
   "mimetype": "text/x-python",
   "name": "python",
   "nbconvert_exporter": "python",
   "pygments_lexer": "ipython3",
   "version": "3.9.18"
  }
 },
 "nbformat": 4,
 "nbformat_minor": 5
}
